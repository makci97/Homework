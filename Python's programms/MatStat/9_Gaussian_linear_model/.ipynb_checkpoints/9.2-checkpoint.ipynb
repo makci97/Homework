{
 "cells": [
  {
   "cell_type": "code",
   "execution_count": 1,
   "metadata": {
    "collapsed": false
   },
   "outputs": [],
   "source": [
    "import pandas as pd\n",
    "import numpy as np\n",
    "import matplotlib.pyplot as plt\n",
    "import scipy.stats as sts\n",
    "%matplotlib inline"
   ]
  },
  {
   "cell_type": "markdown",
   "metadata": {},
   "source": [
    "# Выкладки"
   ]
  },
  {
   "cell_type": "markdown",
   "metadata": {},
   "source": [
    "## Сведение задачи к линейной модели"
   ]
  },
  {
   "cell_type": "markdown",
   "metadata": {},
   "source": [
    "$X_{i} = \\beta_{1} + i\\beta_{2} + \\epsilon_{0} + \\epsilon_{1} + ... + \\epsilon_{i}$, $i\\in \\{0, 1, ... , n\\}$"
   ]
  },
  {
   "cell_type": "markdown",
   "metadata": {},
   "source": [
    "$Y_{i} = X_{i} - X_{i - 1} = \\beta_{2} + \\epsilon_{i}$, $i\\in \\{1, ... , n\\}$"
   ]
  },
  {
   "cell_type": "markdown",
   "metadata": {},
   "source": [
    "$Y_{0} = \\beta_{1} + \\epsilon_{0}$"
   ]
  },
  {
   "cell_type": "markdown",
   "metadata": {},
   "source": [
    "$Z_{(n + 1)\\times2} = \\begin{pmatrix}\n",
    "1 & 0\\\\\n",
    "0 & 1\\\\         \n",
    "\\vdots & \\vdots\\\\\n",
    "0 & 1\\end{pmatrix}$"
   ]
  },
  {
   "cell_type": "markdown",
   "metadata": {},
   "source": [
    "$(Z^{T}Z) = \\begin{pmatrix}\n",
    "1 & 0\\\\\n",
    "0 & n\\end{pmatrix}$"
   ]
  },
  {
   "cell_type": "markdown",
   "metadata": {},
   "source": [
    "$(Z^{T}Z)^{-1} = \\begin{pmatrix}\n",
    "1 & 0\\\\\n",
    "0 & \\frac{1}{n}\\end{pmatrix}$"
   ]
  },
  {
   "cell_type": "markdown",
   "metadata": {},
   "source": [
    "$Z\\hat{\\theta} = \\frac{1}{n}\n",
    "\\begin{pmatrix}\n",
    "n & 0 & \\cdots & 0 \\\\\n",
    "0 & 1 & \\cdots & 1 \\\\         \n",
    "\\vdots & \\vdots & \\ddots & \\vdots \\\\\n",
    "0 & 1 & \\cdots & 1\n",
    "\\end{pmatrix} Y\n",
    "$"
   ]
  },
  {
   "cell_type": "markdown",
   "metadata": {},
   "source": [
    "$||Y - Z\\hat{\\theta}||^{2} = || (E - \\frac{1}{n}\n",
    "\\begin{pmatrix}\n",
    "n & 0 & \\cdots & 0 \\\\\n",
    "0 & 1 & \\cdots & 1 \\\\         \n",
    "\\vdots & \\vdots & \\ddots & \\vdots \\\\\n",
    "0 & 1 & \\cdots & 1\n",
    "\\end{pmatrix}\n",
    ") Y||^{2}$"
   ]
  },
  {
   "cell_type": "markdown",
   "metadata": {},
   "source": [
    "### ОНК для $\\beta_{1}\\text{ и }\\beta_{2}$"
   ]
  },
  {
   "cell_type": "markdown",
   "metadata": {},
   "source": [
    "$\\hat{\\theta} = (Z^{T}Z)^{-1}Z^{T}Y = \n",
    "\\begin{pmatrix}   1 & 0 & \\cdots & 0\\\\ \n",
    "                  0 & \\frac{1}{n}  & \\cdots & \\frac{1}{n} \n",
    "\\end{pmatrix} Y = \n",
    "\\frac{1}{n} \n",
    "\\begin{pmatrix} n & 0 & \\cdots & 0\\\\ \n",
    "                0 & 1 & \\cdots & 1 \n",
    "\\end{pmatrix} Y =\n",
    "\\begin{pmatrix} \\hat{\\beta_{1}}\\\\ \n",
    "                \\hat{\\beta_{2}} \n",
    "\\end{pmatrix}\n",
    "$"
   ]
  },
  {
   "cell_type": "markdown",
   "metadata": {},
   "source": [
    "### Несмещенная оценка для $\\sigma^{2}$"
   ]
  },
  {
   "cell_type": "markdown",
   "metadata": {},
   "source": [
    "$\\sigma^{2} = \\frac{||Y - Z\\hat{\\theta}||^2}{(n + 1) - k} = \\frac{1}{n - 1}||Y - Z\\hat{\\theta}||^2$"
   ]
  },
  {
   "cell_type": "markdown",
   "metadata": {},
   "source": [
    "### Оценка дисперсии отсчета времени"
   ]
  },
  {
   "cell_type": "markdown",
   "metadata": {},
   "source": [
    "$\\epsilon_{i} = \\epsilon_{i}^{t}\\beta_{2} \\Rightarrow \\sigma_{t}^{2} = \\frac{\\sigma^{2} }{\\beta_{2}}$"
   ]
  },
  {
   "cell_type": "markdown",
   "metadata": {},
   "source": [
    "# Вычисления"
   ]
  },
  {
   "cell_type": "markdown",
   "metadata": {},
   "source": [
    "## Считывание данных"
   ]
  },
  {
   "cell_type": "code",
   "execution_count": 2,
   "metadata": {
    "collapsed": false
   },
   "outputs": [],
   "source": [
    "file_obj = open('Regression.csv', 'r')\n",
    "\n",
    "# исходная выборка\n",
    "X = np.array([])\n",
    "\n",
    "for line in file_obj:\n",
    "    line = line[:-1]\n",
    "    X = np.append(X, float(line))\n",
    "file_obj.close()"
   ]
  },
  {
   "cell_type": "code",
   "execution_count": 3,
   "metadata": {
    "collapsed": false
   },
   "outputs": [
    {
     "name": "stdout",
     "output_type": "stream",
     "text": [
      "1000\n"
     ]
    }
   ],
   "source": [
    "print X.size"
   ]
  },
  {
   "cell_type": "code",
   "execution_count": 4,
   "metadata": {
    "collapsed": false
   },
   "outputs": [],
   "source": [
    "Y = np.zeros_like(X)\n",
    "Y[0] = X[0]\n",
    "\n",
    "for i in xrange(1, X.size):\n",
    "    Y[i] = X[i] - X[i-1]"
   ]
  },
  {
   "cell_type": "code",
   "execution_count": 5,
   "metadata": {
    "collapsed": false
   },
   "outputs": [
    {
     "name": "stdout",
     "output_type": "stream",
     "text": [
      "1000\n"
     ]
    }
   ],
   "source": [
    "print Y.size"
   ]
  },
  {
   "cell_type": "markdown",
   "metadata": {},
   "source": [
    "## ОНК для $\\beta_{1}\\text{ и }\\beta_{2}$"
   ]
  },
  {
   "cell_type": "markdown",
   "metadata": {},
   "source": [
    "$\\hat{\\theta} = (Z^{T}Z)^{-1}Z^{T}Y = \n",
    "\\begin{pmatrix}   1 & 0 & \\cdots & 0\\\\ \n",
    "                  0 & \\frac{1}{n}  & \\cdots & \\frac{1}{n} \n",
    "\\end{pmatrix} Y = \n",
    "\\frac{1}{n} \n",
    "\\begin{pmatrix} n & 0 & \\cdots & 0\\\\ \n",
    "                0 & 1 & \\cdots & 1 \n",
    "\\end{pmatrix} Y =\n",
    "\\begin{pmatrix} \\hat{\\beta_{1}}\\\\ \n",
    "                \\hat{\\beta_{2}} \n",
    "\\end{pmatrix}\n",
    "$"
   ]
  },
  {
   "cell_type": "code",
   "execution_count": 6,
   "metadata": {
    "collapsed": true
   },
   "outputs": [],
   "source": [
    "beta_1 = Y[0]\n",
    "beta_2 = np.mean(Y[1:])"
   ]
  },
  {
   "cell_type": "code",
   "execution_count": 7,
   "metadata": {
    "collapsed": false
   },
   "outputs": [
    {
     "name": "stdout",
     "output_type": "stream",
     "text": [
      "ОНК для beta_1 и beta_2: \n",
      "beta_1 =  83.7221 \n",
      "beta_2 =  9.97799349349\n"
     ]
    }
   ],
   "source": [
    "print 'ОНК для beta_1 и beta_2:', '\\nbeta_1 = ', beta_1, '\\nbeta_2 = ', beta_2"
   ]
  },
  {
   "cell_type": "markdown",
   "metadata": {},
   "source": [
    "## Несмещенная оценка для $\\sigma^{2}$"
   ]
  },
  {
   "cell_type": "markdown",
   "metadata": {},
   "source": [
    "$\\sigma^{2} = \\frac{||Y - Z\\hat{\\theta}||^2}{(n + 1) - k} = \\frac{1}{n - 1}||Y - Z\\hat{\\theta}||^2$"
   ]
  },
  {
   "cell_type": "code",
   "execution_count": 8,
   "metadata": {
    "collapsed": false
   },
   "outputs": [],
   "source": [
    "Z = np.zeros(Y.size * 2).reshape(Y.size, 2)\n",
    "Z[0][0] = 1\n",
    "for i in xrange(1, Z.size/2):\n",
    "    Z[i][1] = 1"
   ]
  },
  {
   "cell_type": "code",
   "execution_count": 9,
   "metadata": {
    "collapsed": false
   },
   "outputs": [
    {
     "name": "stdout",
     "output_type": "stream",
     "text": [
      "[[ 1.  0.]\n",
      " [ 0.  1.]\n",
      " [ 0.  1.]\n",
      " ..., \n",
      " [ 0.  1.]\n",
      " [ 0.  1.]\n",
      " [ 0.  1.]]\n"
     ]
    }
   ],
   "source": [
    "print Z"
   ]
  },
  {
   "cell_type": "code",
   "execution_count": 10,
   "metadata": {
    "collapsed": true
   },
   "outputs": [],
   "source": [
    "theta = np.linalg.inv( (np.transpose(Z).dot(Z)) ).dot(np.transpose(Z)).dot(Y)"
   ]
  },
  {
   "cell_type": "code",
   "execution_count": 11,
   "metadata": {
    "collapsed": false
   },
   "outputs": [
    {
     "name": "stdout",
     "output_type": "stream",
     "text": [
      "[ 83.7221       9.97799349]\n"
     ]
    }
   ],
   "source": [
    "print theta"
   ]
  },
  {
   "cell_type": "code",
   "execution_count": 12,
   "metadata": {
    "collapsed": true
   },
   "outputs": [],
   "source": [
    "Y_Z_Theta = Y - Z.dot(theta)"
   ]
  },
  {
   "cell_type": "code",
   "execution_count": 13,
   "metadata": {
    "collapsed": true
   },
   "outputs": [],
   "source": [
    "sigma_2 = float(Y_Z_Theta.dot(np.transpose(Y_Z_Theta)))/(Y.size - 2)"
   ]
  },
  {
   "cell_type": "code",
   "execution_count": 14,
   "metadata": {
    "collapsed": false
   },
   "outputs": [
    {
     "name": "stdout",
     "output_type": "stream",
     "text": [
      "Несмещенная оценка сигма в квадрате равна  2.70470552438\n"
     ]
    }
   ],
   "source": [
    "print 'Несмещенная оценка сигма в квадрате равна ', sigma_2"
   ]
  },
  {
   "cell_type": "markdown",
   "metadata": {},
   "source": [
    "## Оценка дисперсии отсчета времени"
   ]
  },
  {
   "cell_type": "code",
   "execution_count": 16,
   "metadata": {
    "collapsed": false
   },
   "outputs": [
    {
     "name": "stdout",
     "output_type": "stream",
     "text": [
      " Оценка дисперсии отсчета времени  0.027166491595\n"
     ]
    }
   ],
   "source": [
    "print 'Оценка дисперсии отсчета времени ', float(sigma_2)/(beta_2 * beta_2)"
   ]
  },
  {
   "cell_type": "markdown",
   "metadata": {},
   "source": [
    "## Вывод"
   ]
  },
  {
   "cell_type": "markdown",
   "metadata": {},
   "source": []
  }
 ],
 "metadata": {
  "kernelspec": {
   "display_name": "Python 2",
   "language": "python",
   "name": "python2"
  },
  "language_info": {
   "codemirror_mode": {
    "name": "ipython",
    "version": 2
   },
   "file_extension": ".py",
   "mimetype": "text/x-python",
   "name": "python",
   "nbconvert_exporter": "python",
   "pygments_lexer": "ipython2",
   "version": "2.7.11"
  }
 },
 "nbformat": 4,
 "nbformat_minor": 0
}
