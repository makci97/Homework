{
 "cells": [
  {
   "cell_type": "code",
   "execution_count": 1,
   "metadata": {
    "collapsed": false
   },
   "outputs": [],
   "source": [
    "import pandas as pd\n",
    "import numpy as np\n",
    "import matplotlib.pyplot as plt\n",
    "import scipy.stats as sts\n",
    "%matplotlib inline"
   ]
  },
  {
   "cell_type": "markdown",
   "metadata": {},
   "source": [
    "Генерируем выборку"
   ]
  },
  {
   "cell_type": "code",
   "execution_count": 6,
   "metadata": {
    "collapsed": true
   },
   "outputs": [],
   "source": [
    "N = 1000\n",
    "K = 10000\n",
    "theta = 5\n",
    "sample = np.array(sts.uniform.rvs(loc = 0, scale = theta, size = N*K)).reshape(N, K)"
   ]
  },
  {
   "cell_type": "code",
   "execution_count": 24,
   "metadata": {
    "collapsed": false
   },
   "outputs": [
    {
     "name": "stdout",
     "output_type": "stream",
     "text": [
      "(1000, 10000)\n"
     ]
    }
   ],
   "source": [
    "print sample.shape"
   ]
  },
  {
   "cell_type": "markdown",
   "metadata": {},
   "source": [
    "Считаю оценки максимального правдоподобия и данную в условиях"
   ]
  },
  {
   "cell_type": "code",
   "execution_count": null,
   "metadata": {
    "collapsed": false
   },
   "outputs": [],
   "source": [
    "omp = np.ones_like(sample)\n",
    "mark = np.ones_like(sample)\n",
    "for n in xrange(N):\n",
    "    for j in xrange(K):\n",
    "        omp[n][j] = np.max(sample[:n + 1,j])\n",
    "        mark[n][j] = (2./(n + 1) * np.sum(sample[:n + 1,j]) + np.max(sample[:N + 1,j]))/2"
   ]
  },
  {
   "cell_type": "markdown",
   "metadata": {},
   "source": [
    "Считаю дисперсии этих оценок"
   ]
  },
  {
   "cell_type": "code",
   "execution_count": null,
   "metadata": {
    "collapsed": true
   },
   "outputs": [],
   "source": [
    "omp_disp = np.ones(N)\n",
    "mark_disp = np.ones(N)\n",
    "\n",
    "for n in xrange(N):\n",
    "    omp_disp[n] = np.var(omp[n])\n",
    "    mark_disp[n] = np.var(mark[n])"
   ]
  },
  {
   "cell_type": "markdown",
   "metadata": {},
   "source": [
    "Графики дисперсий"
   ]
  },
  {
   "cell_type": "code",
   "execution_count": null,
   "metadata": {
    "collapsed": false
   },
   "outputs": [],
   "source": [
    "plt.figure(figsize=(16, 8))\n",
    "n = np.arange(0, N, 1)\n",
    "\n",
    "plt.plot(n, omp_disp, label='omp')\n",
    "plt.plot(n, mark_disp, label='mark')\n",
    "\n",
    "plt.ylim((0, 0.1))  # размеры графика по вертикальной оси \n",
    "plt.xlabel('$n$')  # название горизонтальной оси (аналогично plt.ylabel)\n",
    "plt.title('Dispersion')  # имя графика\n",
    "plt.grid()  # добавляем сетку\n",
    "plt.legend()\n",
    "plt.show()"
   ]
  },
  {
   "cell_type": "markdown",
   "metadata": {},
   "source": [
    "## Вывод"
   ]
  },
  {
   "cell_type": "markdown",
   "metadata": {},
   "source": [
    "ОМП точнее чем данная в условиях задачи оценка"
   ]
  }
 ],
 "metadata": {
  "kernelspec": {
   "display_name": "Python 2",
   "language": "python",
   "name": "python2"
  },
  "language_info": {
   "codemirror_mode": {
    "name": "ipython",
    "version": 2
   },
   "file_extension": ".py",
   "mimetype": "text/x-python",
   "name": "python",
   "nbconvert_exporter": "python",
   "pygments_lexer": "ipython2",
   "version": "2.7.11"
  }
 },
 "nbformat": 4,
 "nbformat_minor": 0
}
