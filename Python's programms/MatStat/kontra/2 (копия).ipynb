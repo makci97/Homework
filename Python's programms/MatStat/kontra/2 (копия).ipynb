{
 "cells": [
  {
   "cell_type": "code",
   "execution_count": 1,
   "metadata": {
    "collapsed": false
   },
   "outputs": [],
   "source": [
    "import pandas as pd\n",
    "import numpy as np\n",
    "import matplotlib.pyplot as plt\n",
    "import scipy.stats as sts\n",
    "%matplotlib inline"
   ]
  },
  {
   "cell_type": "markdown",
   "metadata": {},
   "source": [
    "### Считывание данных"
   ]
  },
  {
   "cell_type": "code",
   "execution_count": 2,
   "metadata": {
    "collapsed": false
   },
   "outputs": [],
   "source": [
    "file_obj = open('13.csv', 'r')\n",
    "\n",
    "# массив данных\n",
    "Y = np.array([])\n",
    "X = np.array([])\n",
    "\n",
    "\n",
    "# приведение данных к float\n",
    "for line in file_obj:\n",
    "    line = line.split(',')\n",
    "    Y = np.append(Y, float(line[0]))\n",
    "    X = np.append(X, float(line[1]))\n",
    "    X = np.append(X, float(line[2]))\n",
    "    X = np.append(X, float(line[3]))\n",
    "    X = np.append(X, float(line[4]))\n",
    "file_obj.close()\n",
    "X = X.reshape(X.size/4, 4)\n",
    "Y = Y.reshape(Y.size, 1)"
   ]
  },
  {
   "cell_type": "markdown",
   "metadata": {},
   "source": [
    "### ОНК для $\\theta$"
   ]
  },
  {
   "cell_type": "code",
   "execution_count": 3,
   "metadata": {
    "collapsed": true
   },
   "outputs": [],
   "source": [
    "theta = np.linalg.inv( (np.transpose(X).dot(X)) ).dot(np.transpose(X)).dot(Y)"
   ]
  },
  {
   "cell_type": "markdown",
   "metadata": {},
   "source": [
    "Печать $\\theta$"
   ]
  },
  {
   "cell_type": "code",
   "execution_count": 4,
   "metadata": {
    "collapsed": false,
    "scrolled": false
   },
   "outputs": [
    {
     "name": "stdout",
     "output_type": "stream",
     "text": [
      "295.92\n",
      "-2.293\n",
      "4.293\n",
      "-29282.885\n"
     ]
    }
   ],
   "source": [
    "for t in theta:\n",
    "    print round(t,3)"
   ]
  },
  {
   "cell_type": "markdown",
   "metadata": {},
   "source": [
    "Печать $det|X^{T}X|$"
   ]
  },
  {
   "cell_type": "code",
   "execution_count": 5,
   "metadata": {
    "collapsed": false
   },
   "outputs": [
    {
     "name": "stdout",
     "output_type": "stream",
     "text": [
      "0.671186903151\n"
     ]
    }
   ],
   "source": [
    "print np.linalg.det(np.transpose(X).dot(X))"
   ]
  },
  {
   "cell_type": "markdown",
   "metadata": {},
   "source": [
    "Поскольку det отличен от нуля, то исходные данные не являются линейно зависимыми."
   ]
  },
  {
   "cell_type": "markdown",
   "metadata": {},
   "source": [
    "### Оценки по $\\lambda$"
   ]
  },
  {
   "cell_type": "code",
   "execution_count": null,
   "metadata": {
    "collapsed": false
   },
   "outputs": [],
   "source": [
    "E = np.eye(X.size/Y.size)\n",
    "N = 100\n",
    "step = 0.1\n",
    "lam = np.arange(0, N, step)\n",
    "mark = np.array([])\n",
    "\n",
    "for i in xrange(Y.size):\n",
    "    cur_X = np.delete(X, i, 0)\n",
    "    cur_Y = np.delete(Y, i, 0)\n",
    "    X_T_X = np.transpose(cur_X).dot(cur_X)\n",
    "    X_T_Y = np.transpose(cur_X).dot(cur_Y)\n",
    "    \n",
    "    \n",
    "    for l in xrange(lam.size):\n",
    "        buf = np.linalg.inv( X_T_X - lam[l]*E ).dot(X_T_Y)\n",
    "        mark = np.append(mark, buf)\n",
    "        \n",
    "mark = mark.reshape(Y.size, lam.size, X.size/Y.size)"
   ]
  },
  {
   "cell_type": "markdown",
   "metadata": {},
   "source": [
    "### Дисперсии оценок для уаждого $\\lambda$"
   ]
  },
  {
   "cell_type": "code",
   "execution_count": null,
   "metadata": {
    "collapsed": true
   },
   "outputs": [],
   "source": [
    "disp_lam = np.zeroes(lam.size * X.size/Y.size).reshape(lam.size, X.size/Y.size)\n",
    "\n",
    "for l in xrange(lam.size):\n",
    "    for i in xrange(X.size/Y.size):\n",
    "        disp_lam[l][i] = np.var(mark[:Y.size + 1, l, i])"
   ]
  },
  {
   "cell_type": "markdown",
   "metadata": {},
   "source": [
    "### Графики дисперсий от $\\lambda$"
   ]
  },
  {
   "cell_type": "code",
   "execution_count": null,
   "metadata": {
    "collapsed": true
   },
   "outputs": [],
   "source": [
    "plt.figure(figsize=(16, 8 * X.size/Y.size))\n",
    "\n",
    "for i in xrange(X.size/Y.size):\n",
    "    plt.subplot(X.size/Y.size, 1, i + 1)\n",
    "    plt.plot(lam, disp_lam[:lam.size + 1, i], label='$X_{' + str(i) + '}$')\n",
    "\n",
    "    plt.ylim((0, 0.5))  # размеры графика по вертикальной оси \n",
    "    plt.xlabel('$n$')  # название горизонтальной оси (аналогично plt.ylabel)\n",
    "    plt.title('Dispersion$(\\\\lambda)$ for ' + '$X_{' + str(i) + '}$')  # имя графика\n",
    "    plt.grid()  # добавляем сетку\n",
    "    plt.legend()\n",
    "    \n",
    "plt.show()"
   ]
  }
 ],
 "metadata": {
  "kernelspec": {
   "display_name": "Python 2",
   "language": "python",
   "name": "python2"
  },
  "language_info": {
   "codemirror_mode": {
    "name": "ipython",
    "version": 2
   },
   "file_extension": ".py",
   "mimetype": "text/x-python",
   "name": "python",
   "nbconvert_exporter": "python",
   "pygments_lexer": "ipython2",
   "version": "2.7.11"
  }
 },
 "nbformat": 4,
 "nbformat_minor": 0
}
