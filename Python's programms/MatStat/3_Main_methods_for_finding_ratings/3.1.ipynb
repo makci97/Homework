{
 "cells": [
  {
   "cell_type": "code",
   "execution_count": 17,
   "metadata": {
    "collapsed": true
   },
   "outputs": [],
   "source": [
    "import pandas as pd\n",
    "import numpy as np\n",
    "import matplotlib.pyplot as plt\n",
    "import scipy.stats as sts\n",
    "from statsmodels.distributions import empirical_distribution\n",
    "%matplotlib inline"
   ]
  },
  {
   "cell_type": "markdown",
   "metadata": {},
   "source": [
    "Оценки методом моментов:\n",
    "\n",
    "1) $N(\\mu, \\sigma^2):\\ \\mu\\sim\\bar{X},\\ \\sigma^2\\sim s^2$\n",
    "\n",
    "2) $\\Gamma(\\alpha, \\lambda):\\ \\alpha\\sim\\frac{\\bar{x}}{s^2},\\ \\lambda\\sim\\frac{\\bar{X^2}}{s^2}$\n",
    "\n",
    "3) $R(a, b):\\ a\\sim\\bar{X}-\\sqrt{3s^2},\\ b\\sim\\bar{X}+\\sqrt{3s^2}$\n",
    "\n",
    "4) $Pois(\\lambda):\\ \\lambda\\sim\\bar{X}$\n",
    "\n",
    "5) $Bin(n, p):\\ n\\sim\\frac{\\bar{X}^2}{\\bar{X}-s^2},\\ p\\sim1+\\bar{X}-\\frac{\\bar{X^2}}{\\bar{X}}$\n",
    "\n",
    "6) $Geom(p):\\ p\\sim\\frac{1}{\\bar{X}}$\n",
    "\n",
    "7) $Beta(\\alpha, \\lambda):\\ \\alpha\\sim\\frac{(1-\\bar{X})(\\bar{X}-\\bar{X^2})}{s^2},\\ \\lambda\\sim\\frac{\\bar{X}-\\bar{X^2}}{s^2}$"
   ]
  },
  {
   "cell_type": "markdown",
   "metadata": {},
   "source": [
    "\n",
    "Оценки методом максимального правдоподобия:\n",
    "\n",
    "1) $N(\\mu, \\sigma^2):\\ \\mu\\sim\\bar{X},\\ \\sigma^2\\sim s^2$\n",
    "\n",
    "2) $\\Gamma(\\alpha, \\lambda):\\ \\alpha\\sim\\frac{\\lambda}{\\bar{X}}$\n",
    "\n",
    "3) $R(a, b):\\ a\\sim\\ X_{(1)},\\ b\\sim X_{(n)}$\n",
    "\n",
    "4) $Pois(\\lambda):\\ \\lambda\\sim\\bar{X}$\n",
    "\n",
    "5) $Bin(n, p):\\ p\\sim\\frac{\\bar{X}}{n}$\n",
    "\n",
    "6) $Geom(p):\\ p\\sim\\frac{1}{\\bar{X}}$\n",
    "\n",
    "7) $Pareto(2, \\theta),\\ p(x)=\\frac{2\\theta^2}{x^3}I(x>\\theta):\\ \\theta\\sim X_{(1)}$"
   ]
  },
  {
   "cell_type": "markdown",
   "metadata": {},
   "source": [
    "Функции принимают на вход выборку. Возвращают масив из элементов $\\bar{X}, S^{2}, X_{(1)}, X_{(n)}$ для $n\\leq sample.size$ соответсвенно."
   ]
  },
  {
   "cell_type": "code",
   "execution_count": 2,
   "metadata": {
    "collapsed": false
   },
   "outputs": [],
   "source": [
    "def X(sample):\n",
    "    avrg_1 = float(sample[0])\n",
    "\n",
    "    first = np.array([avrg_1])\n",
    "    for x in xrange(1,sample.size):\n",
    "        avrg_1 = (avrg_1*x + sample[x])/(x+1)\n",
    "            \n",
    "        first = np.append(first, avrg_1)\n",
    "        \n",
    "    return first\n",
    "\n",
    "def S_2(sample):\n",
    "    avrg_1 = float(sample[0])\n",
    "    avrg_2 = float(sample[0])**2\n",
    "\n",
    "    first = np.array([avrg_1])\n",
    "    second = np.array([avrg_2])\n",
    "    for x in xrange(1,sample.size):\n",
    "        avrg_1 = (avrg_1*x + sample[x])/(x+1)\n",
    "        avrg_2 = (avrg_2*x + sample[x]**2)/(x+1)\n",
    "            \n",
    "        first = np.append(first, avrg_1)\n",
    "        second = np.append(second, avrg_2)\n",
    "        \n",
    "    return second - first**2\n",
    "\n",
    "def X_first(sample):\n",
    "    min_el = float(sample[0])\n",
    "\n",
    "    third = np.array([min_el])\n",
    "    for x in xrange(1,sample.size):\n",
    "        if(sample[x] < min_el):\n",
    "            min_el = sample[x]\n",
    "            \n",
    "        third = np.append(third, min_el)\n",
    "        \n",
    "    return third\n",
    "\n",
    "def X_last(sample):\n",
    "    max_el = sample[0]\n",
    "\n",
    "    fourth = np.array([max_el])\n",
    "    for x in xrange(1,sample.size):\n",
    "        if(sample[x] > max_el):\n",
    "            max_el = sample[x]\n",
    "            \n",
    "        fourth = np.append(fourth, max_el)\n",
    "        \n",
    "    return fourth"
   ]
  },
  {
   "cell_type": "markdown",
   "metadata": {},
   "source": [
    "## $N(\\mu, \\sigma^2):\\ \\mu\\sim\\bar{X},\\ \\sigma^2\\sim s^2\\ и\\ \\mu\\sim\\bar{X},\\ \\sigma^2\\sim s^2$"
   ]
  },
  {
   "cell_type": "markdown",
   "metadata": {},
   "source": [
    "### Параметрический брустреп"
   ]
  },
  {
   "cell_type": "code",
   "execution_count": 16,
   "metadata": {
    "collapsed": false
   },
   "outputs": [
    {
     "name": "stdout",
     "output_type": "stream",
     "text": [
      "При параметрах mu = 0 sigma = 1 выборочная оценка дисперсии оценки параметра:\n",
      "\n",
      "var_mu = 0.0100573563394 var_sigma = 0.034344589736 \n",
      "\n",
      "При параметрах mu = 2.0 sigma = 0.5 выборочная оценка дисперсии оценки параметра:\n",
      "\n",
      "var_mu = 0.00528874674893 var_sigma = 0.000268377897333 \n",
      "\n",
      "При параметрах mu = 7.0 sigma = 2.0 выборочная оценка дисперсии оценки параметра:\n",
      "\n",
      "var_mu = 0.176950259654 var_sigma = 13.6450031708 \n",
      "\n"
     ]
    }
   ],
   "source": [
    "N = 1000\n",
    "K = 100\n",
    "mu = [0, 2.0, 7.0]\n",
    "sigma = [1, 0.5, 2.0]\n",
    "size = 3\n",
    "\n",
    "for x in xrange(0, size):\n",
    "    # задаем распределение\n",
    "    norm_rv = sts.norm(loc = mu[x], scale = sigma[x])\n",
    "    # генерируем выборку размера N\n",
    "    sample = norm_rv.rvs(N)\n",
    "    \n",
    "    # массив оценок параметра\n",
    "    rating_mu = X(sample)\n",
    "    rating_sigma = S_2(sample)\n",
    "    \n",
    "    # итоговые бутстрепные оценки параметра\n",
    "    result_mu = np.array([])\n",
    "    result_sigma = np.array([])\n",
    "    \n",
    "    print \"При параметрах mu =\", mu[x], \"sigma =\", sigma[x], \"выборочная оценка дисперсии оценки параметра:\\n\"\n",
    "    \n",
    "    for y in xrange(0, N):\n",
    "        # для каждой оценки задаем распределение\n",
    "        bytstrep_norm_rv = sts.norm(loc = rating_mu[y], scale = rating_sigma[y])\n",
    "        \n",
    "        for z in xrange(0, K):\n",
    "            # генерируем выбороку размера y+1\n",
    "            bytstrep_sample = bytstrep_norm_rv.rvs(y+1)\n",
    "            # добавляем итоговые оценки параметра\n",
    "            result_mu = np.append(result_mu, np.mean(bytstrep_sample) )\n",
    "            result_sigma = np.append(result_sigma, np.var(bytstrep_sample) )\n",
    "    \n",
    "    #выборочная оценка дисперсии оценки параметра\n",
    "    var_mu =  np.var(result_mu)\n",
    "    var_sigma = np.var(result_sigma)\n",
    "    \n",
    "    print \"var_mu =\",var_mu, \"var_sigma =\", var_sigma, '\\n'"
   ]
  },
  {
   "cell_type": "markdown",
   "metadata": {},
   "source": [
    "### Непараметрический брустреп"
   ]
  },
  {
   "cell_type": "code",
   "execution_count": 18,
   "metadata": {
    "collapsed": false
   },
   "outputs": [
    {
     "name": "stdout",
     "output_type": "stream",
     "text": [
      "При параметрах mu = 0 sigma = 1 выборочная оценка дисперсии оценки параметра:\n",
      "\n"
     ]
    },
    {
     "ename": "AttributeError",
     "evalue": "'ECDF' object has no attribute 'rvs'",
     "output_type": "error",
     "traceback": [
      "\u001b[1;31m---------------------------------------------------------------------------\u001b[0m",
      "\u001b[1;31mAttributeError\u001b[0m                            Traceback (most recent call last)",
      "\u001b[1;32m<ipython-input-18-87059de60022>\u001b[0m in \u001b[0;36m<module>\u001b[1;34m()\u001b[0m\n\u001b[0;32m     23\u001b[0m         \u001b[1;32mfor\u001b[0m \u001b[0mz\u001b[0m \u001b[1;32min\u001b[0m \u001b[0mxrange\u001b[0m\u001b[1;33m(\u001b[0m\u001b[1;36m0\u001b[0m\u001b[1;33m,\u001b[0m \u001b[0mK\u001b[0m\u001b[1;33m)\u001b[0m\u001b[1;33m:\u001b[0m\u001b[1;33m\u001b[0m\u001b[0m\n\u001b[0;32m     24\u001b[0m             \u001b[1;31m# генерируем выбороку размера y+1\u001b[0m\u001b[1;33m\u001b[0m\u001b[1;33m\u001b[0m\u001b[0m\n\u001b[1;32m---> 25\u001b[1;33m             \u001b[0mbytstrep_sample\u001b[0m \u001b[1;33m=\u001b[0m \u001b[0mbytstrep_ecdf\u001b[0m\u001b[1;33m.\u001b[0m\u001b[0mrvs\u001b[0m\u001b[1;33m(\u001b[0m\u001b[0my\u001b[0m\u001b[1;33m+\u001b[0m\u001b[1;36m1\u001b[0m\u001b[1;33m)\u001b[0m\u001b[1;33m\u001b[0m\u001b[0m\n\u001b[0m\u001b[0;32m     26\u001b[0m             \u001b[1;31m# добавляем итоговые оценки параметра\u001b[0m\u001b[1;33m\u001b[0m\u001b[1;33m\u001b[0m\u001b[0m\n\u001b[0;32m     27\u001b[0m             \u001b[0mresult_mu\u001b[0m \u001b[1;33m=\u001b[0m \u001b[0mnp\u001b[0m\u001b[1;33m.\u001b[0m\u001b[0mappend\u001b[0m\u001b[1;33m(\u001b[0m\u001b[0mresult_mu\u001b[0m\u001b[1;33m,\u001b[0m \u001b[0mnp\u001b[0m\u001b[1;33m.\u001b[0m\u001b[0mmean\u001b[0m\u001b[1;33m(\u001b[0m\u001b[0mbytstrep_sample\u001b[0m\u001b[1;33m)\u001b[0m \u001b[1;33m)\u001b[0m\u001b[1;33m\u001b[0m\u001b[0m\n",
      "\u001b[1;31mAttributeError\u001b[0m: 'ECDF' object has no attribute 'rvs'"
     ]
    }
   ],
   "source": [
    "N = 1000\n",
    "K = 100\n",
    "mu = [0, 2.0, 7.0]\n",
    "sigma = [1, 0.5, 3.0]\n",
    "size = 3\n",
    "\n",
    "for x in xrange(0, size):\n",
    "    # задаем распределение\n",
    "    norm_rv = sts.norm(loc = mu[x], scale = sigma[x])\n",
    "    # генерируем выборку размера N\n",
    "    sample = norm_rv.rvs(N)\n",
    "    \n",
    "    # итоговые бутстрепные оценки параметра\n",
    "    result_mu = np.array([])\n",
    "    result_sigma = np.array([])\n",
    "    \n",
    "    print \"При параметрах mu =\", mu[x], \"sigma =\", sigma[x], \"выборочная оценка дисперсии оценки параметра:\\n\"\n",
    "    \n",
    "    for y in xrange(0, N):\n",
    "        # для каждой оценки задаем эмпирическое распределение\n",
    "        bytstrep_ecdf = empirical_distribution.ECDF(sample[:y+1])\n",
    "        class minus_six_gen+str(y)(sts.rv_continuous):\n",
    "            def _pdf(self, x):\n",
    "                return 5./(np.power(x,6))\n",
    "            minus_six = minus_six_gen(a=1, name='minus_six')\n",
    "        \n",
    "        for z in xrange(0, K):\n",
    "            # генерируем выбороку размера y+1\n",
    "            bytstrep_sample = bytstrep_ecdf.rvs(y+1)\n",
    "            # добавляем итоговые оценки параметра\n",
    "            result_mu = np.append(result_mu, np.mean(bytstrep_sample) )\n",
    "            result_sigma = np.append(result_sigma, np.var(bytstrep_sample) )\n",
    "    \n",
    "    #выборочная оценка дисперсии оценки параметра\n",
    "    var_mu =  np.var(result_mu)\n",
    "    var_sigma = np.var(result_sigma)\n",
    "    \n",
    "    print \"var_mu =\",var_mu, \"var_sigma =\", var_sigma, '\\n'"
   ]
  },
  {
   "cell_type": "markdown",
   "metadata": {},
   "source": [
    "Оценки методом моментов:\n",
    "\n",
    "1) $N(\\mu, \\sigma^2):\\ \\mu\\sim\\bar{X},\\ \\sigma^2\\sim s^2$\n",
    "\n",
    "2) $\\Gamma(\\alpha, \\lambda):\\ \\alpha\\sim\\frac{\\bar{x}}{s^2},\\ \\lambda\\sim\\frac{\\bar{X^2}}{s^2}$\n",
    "\n",
    "3) $R(a, b):\\ a\\sim\\bar{X}-\\sqrt{3s^2},\\ b\\sim\\bar{X}+\\sqrt{3s^2}$\n",
    "\n",
    "4) $Pois(\\lambda):\\ \\lambda\\sim\\bar{X}$\n",
    "\n",
    "5) $Bin(n, p):\\ n\\sim\\frac{\\bar{X}^2}{\\bar{X}-s^2},\\ p\\sim1+\\bar{X}-\\frac{\\bar{X^2}}{\\bar{X}}$\n",
    "\n",
    "6) $Geom(p):\\ p\\sim\\frac{1}{\\bar{X}}$\n",
    "\n",
    "7) $Beta(\\alpha, \\lambda):\\ \\alpha\\sim\\frac{(1-\\bar{X})(\\bar{X}-\\bar{X^2})}{s^2},\\ \\lambda\\sim\\frac{\\bar{X}-\\bar{X^2}}{s^2}$"
   ]
  },
  {
   "cell_type": "markdown",
   "metadata": {},
   "source": [
    "\n",
    "Оценки методом максимального правдоподобия:\n",
    "\n",
    "1) $N(\\mu, \\sigma^2):\\ \\mu\\sim\\bar{X},\\ \\sigma^2\\sim s^2$\n",
    "\n",
    "2) $\\Gamma(\\alpha, \\lambda):\\ \\alpha\\sim\\frac{\\lambda}{\\bar{X}}$\n",
    "\n",
    "3) $R(a, b):\\ a\\sim\\ X_{(1)},\\ b\\sim X_{(n)}$\n",
    "\n",
    "4) $Pois(\\lambda):\\ \\lambda\\sim\\bar{X}$\n",
    "\n",
    "5) $Bin(n, p):\\ p\\sim\\frac{\\bar{X}}{n}$\n",
    "\n",
    "6) $Geom(p):\\ p\\sim\\frac{1}{\\bar{X}}$\n",
    "\n",
    "7) $Pareto(2, \\theta),\\ p(x)=\\frac{2\\theta^2}{x^3}I(x>\\theta):\\ \\theta\\sim X_{(1)}$"
   ]
  },
  {
   "cell_type": "markdown",
   "metadata": {},
   "source": [
    "## Выборка размера $N = 10000$ из $Exp(\\theta)$, где $\\theta = 1$"
   ]
  },
  {
   "cell_type": "code",
   "execution_count": null,
   "metadata": {
    "collapsed": true
   },
   "outputs": [],
   "source": [
    "N = 10000\n",
    "t = 1\n",
    "exp_rv = sts.expon(t)\n",
    "sample = exp_rv.rvs(N)"
   ]
  },
  {
   "cell_type": "markdown",
   "metadata": {},
   "source": [
    "В массиве хранятся элементы, соответсвующие выборочному k-му моменту и оценке, для каждого $n\\leq N$"
   ]
  },
  {
   "cell_type": "markdown",
   "metadata": {},
   "source": [
    "$first \\sim \\bar{X^{k}}$"
   ]
  },
  {
   "cell_type": "markdown",
   "metadata": {},
   "source": [
    "$result \\sim \\sqrt[k]{\\frac{k!}{\\bar{X^{k}} } }$ "
   ]
  },
  {
   "cell_type": "code",
   "execution_count": null,
   "metadata": {
    "collapsed": false
   },
   "outputs": [],
   "source": [
    "def f(k, sample):\n",
    "    avrg = float(sample[0])**k\n",
    "\n",
    "    first = np.array([avrg])\n",
    "    for x in xrange(1,10000):\n",
    "        avrg = (avrg*x + sample[x]**k)/(x+1)   \n",
    "        first = np.append(first, avrg)\n",
    "        \n",
    "    result = ((np.prod(k))/first)**(1.0/k)\n",
    "    return result"
   ]
  },
  {
   "cell_type": "markdown",
   "metadata": {},
   "source": [
    "#### Построение графиков модуля разности оценки и $\\theta$"
   ]
  },
  {
   "cell_type": "code",
   "execution_count": null,
   "metadata": {
    "collapsed": false
   },
   "outputs": [],
   "source": [
    "x = np.linspace(0, N, N)\n",
    "plt.plot(x, np.abs(f(1, sample) - t), label = '$k = 1$')\n",
    "plt.plot(x, np.abs(f(2, sample) - t), label = '$k = 2$')\n",
    "plt.plot(x, np.abs(f(5, sample) - t), label = '$k = 5$')\n",
    "plt.plot(x, np.abs(f(10, sample) - t), label = '$k = 10$')\n",
    "plt.plot(x, np.abs(f(20, sample) - t), label = '$k = 20$')\n",
    "plt.plot(x, np.abs(f(50, sample) - t), label = '$k = 50$')\n",
    "plt.plot(x, np.abs(f(100, sample) - t), label = '$k = 100$')\n",
    "plt.plot(x, np.abs(f(200, sample) - t), label = '$k = 200$')\n",
    "plt.plot(x, np.abs(f(300, sample) - t), label = '$k = 300$')\n",
    "plt.plot(x, np.abs(f(400, sample) - t), label = '$k = 400$')\n",
    "plt.plot(x, np.abs(f(500, sample) - t), label = '$k = 500$')\n",
    "plt.ylabel('$|\\hat{\\\\theta} - \\\\theta|$')\n",
    "plt.xlabel('$n$')\n",
    "plt.legend()\n",
    "plt.show()"
   ]
  },
  {
   "cell_type": "code",
   "execution_count": null,
   "metadata": {
    "collapsed": false
   },
   "outputs": [],
   "source": [
    "x = np.linspace(0, N, N)\n",
    "plt.plot(x, np.abs(f(1, sample) - t), label = '$k = 1$')\n",
    "plt.plot(x, np.abs(f(2, sample) - t), label = '$k = 2$')\n",
    "plt.plot(x, np.abs(f(3, sample) - t), label = '$k = 3$')\n",
    "plt.plot(x, np.abs(f(4, sample) - t), label = '$k = 4$')\n",
    "plt.plot(x, np.abs(f(5, sample) - t), label = '$k = 5$')\n",
    "plt.plot(x, np.abs(f(10, sample) - t), label = '$k = 10$')\n",
    "plt.plot(x, np.abs(f(20, sample) - t), label = '$k = 20$')\n",
    "plt.ylabel('$|\\hat{\\\\theta} - \\\\theta|$')\n",
    "plt.xlabel('$n$')\n",
    "plt.legend()\n",
    "plt.show()"
   ]
  },
  {
   "cell_type": "code",
   "execution_count": null,
   "metadata": {
    "collapsed": false
   },
   "outputs": [],
   "source": [
    "x = np.linspace(0, N, N)\n",
    "plt.plot(x, np.abs(f(20, sample) - t), label = '$k = 20$')\n",
    "plt.plot(x, np.abs(f(50, sample) - t), label = '$k = 50$')\n",
    "plt.plot(x, np.abs(f(100, sample) - t), label = '$k = 100$')\n",
    "plt.plot(x, np.abs(f(200, sample) - t), label = '$k = 200$')\n",
    "plt.plot(x, np.abs(f(300, sample) - t), label = '$k = 300$')\n",
    "plt.plot(x, np.abs(f(400, sample) - t), label = '$k = 400$')\n",
    "plt.plot(x, np.abs(f(500, sample) - t), label = '$k = 500$')\n",
    "plt.ylabel('$|\\hat{\\\\theta} - \\\\theta|$')\n",
    "plt.xlabel('$n$')\n",
    "plt.legend()\n",
    "plt.show()"
   ]
  },
  {
   "cell_type": "markdown",
   "metadata": {},
   "source": [
    "# Вывод"
   ]
  },
  {
   "cell_type": "markdown",
   "metadata": {},
   "source": [
    "Лучше всего приближает значение параметра $\\theta$ оценка при $k = 2$. С ростом k оценка ухудшается, но отклонение не превышает 1."
   ]
  }
 ],
 "metadata": {
  "kernelspec": {
   "display_name": "Python 2",
   "language": "python",
   "name": "python2"
  },
  "language_info": {
   "codemirror_mode": {
    "name": "ipython",
    "version": 2
   },
   "file_extension": ".py",
   "mimetype": "text/x-python",
   "name": "python",
   "nbconvert_exporter": "python",
   "pygments_lexer": "ipython2",
   "version": "2.7.11"
  }
 },
 "nbformat": 4,
 "nbformat_minor": 0
}
