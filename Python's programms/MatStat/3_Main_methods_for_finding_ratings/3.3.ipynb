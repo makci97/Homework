{
 "cells": [
  {
   "cell_type": "code",
   "execution_count": 1,
   "metadata": {
    "collapsed": true
   },
   "outputs": [],
   "source": [
    "import pandas as pd\n",
    "import numpy as np\n",
    "import matplotlib.pyplot as plt\n",
    "import scipy.stats as sts\n",
    "%matplotlib inline"
   ]
  },
  {
   "cell_type": "code",
   "execution_count": 3,
   "metadata": {
    "collapsed": false
   },
   "outputs": [
    {
     "name": "stdout",
     "output_type": "stream",
     "text": [
      "3652\n"
     ]
    }
   ],
   "source": [
    "file_obj = open('Weibull.csv', 'r')\n",
    "date = np.array([])\n",
    "for line in file_obj:\n",
    "    date = np.append(date, float(line))\n",
    "file_obj.close()\n",
    "print date.size"
   ]
  },
  {
   "cell_type": "markdown",
   "metadata": {},
   "source": [
    "### $p(x) = 1 - \\exp^{-x^{\\gamma}} I(x \\geq 0)$, где $\\gamma > 0$"
   ]
  },
  {
   "cell_type": "markdown",
   "metadata": {},
   "source": [
    "Функция правдоподобия $f(x) = П (1 - \\exp^{-(X_{i})^{\\gamma}})$ достигает своего максимума на тех же значениях , на которых функция $g(x) = \\Sigma ln(1 - \\exp^{-(X_{i})^{\\gamma}})$ достигает максимума"
   ]
  },
  {
   "cell_type": "code",
   "execution_count": 4,
   "metadata": {
    "collapsed": true
   },
   "outputs": [],
   "source": [
    "def g(X, t):\n",
    "    result = 1    \n",
    "    for i in X:\n",
    "        result += np.log(1 - np.exp(-(i)**t))\n",
    "        \n",
    "    return result"
   ]
  },
  {
   "cell_type": "markdown",
   "metadata": {},
   "source": [
    "## Для первых 4 лет"
   ]
  },
  {
   "cell_type": "code",
   "execution_count": 5,
   "metadata": {
    "collapsed": false,
    "scrolled": true
   },
   "outputs": [
    {
     "name": "stdout",
     "output_type": "stream",
     "text": [
      "0.01\n"
     ]
    }
   ],
   "source": [
    "t = np.arange(-2, 2, 0.001)\n",
    "t = 10**t\n",
    "N = 4*365+1\n",
    "min_id = 0\n",
    "min_value = g(date[:N], t[min_id])\n",
    "\n",
    "for i in xrange(0, t.size):\n",
    "    value = g(date[:N], t[i])\n",
    "    if(value < min_value):\n",
    "        min_value = value\n",
    "        min_id = i\n",
    "\n",
    "print t[min_id]"
   ]
  },
  {
   "cell_type": "markdown",
   "metadata": {},
   "source": [
    "### Ответ: 0.01"
   ]
  },
  {
   "cell_type": "markdown",
   "metadata": {},
   "source": [
    "## Для 10 лет"
   ]
  },
  {
   "cell_type": "code",
   "execution_count": 6,
   "metadata": {
    "collapsed": false
   },
   "outputs": [
    {
     "name": "stdout",
     "output_type": "stream",
     "text": [
      "0.01\n"
     ]
    }
   ],
   "source": [
    "t = np.arange(-2, 2, 0.001)\n",
    "t = 10**t\n",
    "N = 3652\n",
    "min_id = 0\n",
    "min_value = g(date[:N], t[min_id])\n",
    "\n",
    "for i in xrange(0, t.size):\n",
    "    value = g(date[:N], t[i])\n",
    "    if(value < min_value):\n",
    "        min_value = value\n",
    "        min_id = i\n",
    "\n",
    "print t[min_id]"
   ]
  },
  {
   "cell_type": "markdown",
   "metadata": {},
   "source": [
    "### Ответ: 0.01"
   ]
  }
 ],
 "metadata": {
  "kernelspec": {
   "display_name": "Python 2",
   "language": "python",
   "name": "python2"
  },
  "language_info": {
   "codemirror_mode": {
    "name": "ipython",
    "version": 2
   },
   "file_extension": ".py",
   "mimetype": "text/x-python",
   "name": "python",
   "nbconvert_exporter": "python",
   "pygments_lexer": "ipython2",
   "version": "2.7.11"
  }
 },
 "nbformat": 4,
 "nbformat_minor": 0
}
