{
 "cells": [
  {
   "cell_type": "code",
   "execution_count": 1,
   "metadata": {
    "collapsed": true
   },
   "outputs": [],
   "source": [
    "import pandas as pd\n",
    "import numpy as np\n",
    "import matplotlib.pyplot as plt\n",
    "import scipy.stats as sts\n",
    "%matplotlib inline"
   ]
  },
  {
   "cell_type": "code",
   "execution_count": 8,
   "metadata": {
    "collapsed": false
   },
   "outputs": [
    {
     "name": "stdout",
     "output_type": "stream",
     "text": [
      "[ -687.33  -684.85  -684.52  -684.13  -685.33  -688.41  -682.94  -682.44\n",
      "  -684.11  -681.89  -684.96  -684.05  -683.38  -683.86  -684.27  -683.54\n",
      "  -683.11  -688.68  -684.14  -682.98  -681.18  -683.61  -684.37  -683.34\n",
      "  -681.02  -685.12  -690.91  -684.41  -679.76  -680.83  -683.57  -683.93\n",
      "  -683.63  -682.35  -685.45  -684.78  -683.38  -682.52  -689.42  -684.06\n",
      "  -684.71  -685.87  -683.63  -680.37  -682.97  -684.19  -682.48  -689.16\n",
      "  -683.43  -683.    -705.97  -693.26 -2486.21  -682.57  -682.5   -683.41\n",
      "  -683.57  -684.74  -684.    -688.94  -686.03  -684.34  -682.8   -686.31\n",
      "  -683.31  -681.89  -684.29  -704.01  -686.75  -684.14  -685.28  -692.38\n",
      "  -684.27  -684.71  -685.23  -682.43  -684.6   -685.21  -683.35  -684.21\n",
      "  -681.86  -686.7   -681.29  -682.97  -683.41  -683.71  -685.32  -698.79\n",
      "  -727.09  -689.66  -678.11  -686.85  -685.34  -684.86  -684.08  -685.15\n",
      "  -683.72  -683.87  -683.17  -684.36  -685.42  -654.54  -684.03  -684.6\n",
      "  -689.11  -680.98  -682.34  -684.09  -682.06  -671.56  -683.51  -683.79\n",
      "  -684.38  -685.17  -684.27  -683.9   -683.82  -683.98  -683.53  -683.85\n",
      "  -683.24  -684.81  -683.71  -688.17  -700.59  -683.89  -683.63  -684.24\n",
      "  -685.78  -684.22  -685.5   -684.01  -683.29  -677.39  -683.84  -682.76\n",
      "  -681.95  -683.64  -685.38  -682.5   -682.76  -683.31  -683.62  -684.\n",
      "  -683.48  -685.13  -684.63  -685.72  -684.22  -683.44  -684.97  -679.09\n",
      "  -669.75  -696.5   -684.57  -684.19  -685.1   -682.83  -683.49  -681.71\n",
      "  -705.13  -665.55  -684.32  -669.01  -686.37  -684.35  -685.    -687.96\n",
      "  -682.62  -685.66  -684.84  -686.56  -684.24  -683.89  -680.67  -686.67\n",
      "  -684.88  -682.98  -685.85  -680.91  -688.02  -681.94  -681.71  -684.23\n",
      "  -684.71  -683.02  -685.11  -684.19  -683.3   -685.49  -682.2   -677.17\n",
      "  -685.42  -683.87  -677.17  -683.69  -691.08  -684.79  -684.95  -682.73\n",
      "  -684.62  -685.42  -685.11  -683.62  -683.08  -683.48  -682.57  -682.42\n",
      "  -683.73  -672.    -684.06  -683.55  -683.11  -684.64  -684.09  -681.63\n",
      "  -682.9   -681.39  -684.44  -683.05  -684.13  -685.51  -684.64  -684.24\n",
      "  -685.82  -697.72  -683.41  -685.47  -684.4   -683.81  -681.03  -686.31\n",
      "  -686.69  -683.13  -685.1   -685.19  -684.78  -684.82  -685.06  -685.15\n",
      "  -684.54  -691.61  -684.5   -683.33  -682.94  -684.86  -684.72  -684.62\n",
      "  -683.62  -683.84  -684.25  -684.75  -687.04  -683.53  -684.36  -685.47\n",
      "  -682.23  -684.24  -683.88  -682.94 -1446.16  -685.13  -683.69  -682.42\n",
      "  -683.97  -684.48  -683.67  -683.1   -686.58  -682.86  -684.25  -683.36\n",
      "  -683.26  -686.27  -682.75  -684.11  -656.47  -679.84  -684.48  -685.34\n",
      "  -683.81  -689.39  -685.96  -677.8   -685.79  -685.43  -684.26  -682.3\n",
      "  -683.67  -686.12  -683.94  -686.25  -685.46  -690.75  -681.23  -683.53\n",
      "  -688.33  -683.96  -684.93  -683.55  -683.61  -682.02  -682.86  -682.9\n",
      "  -688.15  -683.18  -684.57  -682.71  -685.13  -684.74  -682.34  -686.9\n",
      "  -709.54  -682.71  -678.82  -684.63  -684.06  -684.93  -683.93  -684.55\n",
      "  -685.3   -684.52  -683.94  -684.13  -683.09  -682.7   -682.63  -684.48\n",
      "  -682.35  -684.92  -684.63  -684.45  -686.98  -685.43  -672.68  -684.34\n",
      "  -676.67  -678.06  -685.62  -684.61  -683.71  -685.49  -683.24  -683.94\n",
      "  -683.45  -684.81  -683.51  -687.91  -684.28  -682.86  -679.28  -683.53\n",
      "  -684.16  -684.25  -683.26  -680.04  -664.86  -685.66  -683.49  -683.31\n",
      "  -680.54  -684.98  -685.32  -683.42  -683.19  -682.21  -683.1   -681.18\n",
      "  -685.69  -686.91  -684.3   -684.67  -684.81  -688.38  -683.23  -684.17\n",
      "  -686.13  -682.84  -693.43  -683.38  -685.6   -678.85  -681.54  -682.62\n",
      "  -677.23  -684.09  -684.54  -683.06  -684.72  -679.08  -682.26  -687.65\n",
      "  -711.54  -684.9   -683.86  -682.85  -682.49  -685.01  -684.2   -684.28\n",
      "  -683.73  -683.21  -683.46  -685.82  -685.41  -684.71  -684.71  -683.32\n",
      "  -684.41  -679.96  -684.02  -684.5   -683.81  -663.29  -683.85  -683.41\n",
      "  -684.91  -683.39  -682.68  -683.38  -682.74  -684.11  -684.75  -683.27\n",
      "  -684.22  -684.19  -681.41  -684.78  -683.95  -685.96  -696.72  -679.85\n",
      "  -681.47  -684.45  -684.13  -679.7   -686.14  -683.86  -685.35  -683.81\n",
      "  -672.53  -682.65  -684.25  -681.18  -685.54  -680.96  -681.97  -686.15\n",
      "  -684.11  -684.14  -679.45  -684.35  -684.23  -684.47  -681.86  -684.12\n",
      "  -683.69  -684.23  -686.65  -679.3   -682.99  -682.99  -684.08  -684.01\n",
      "  -683.41  -686.37  -684.09  -678.03  -708.64  -686.19  -686.27  -687.67\n",
      "  -685.08  -672.87  -689.11  -683.49  -685.88  -684.47  -683.83  -684.51\n",
      "  -683.22  -684.69  -676.43  -686.8   -684.45  -684.21  -682.65  -684.71\n",
      "  -683.79  -684.38  -687.12  -684.08  -683.72  -684.65  -684.97  -686.17\n",
      "  -686.36  -718.24  -683.26  -685.98  -683.85  -684.55  -663.79  -619.02\n",
      "  -683.75  -686.54  -707.62  -682.7   -685.08  -677.36  -682.05  -684.55\n",
      "  -681.42  -682.52  -684.12  -684.44  -726.12  -684.5   -684.97  -691.66\n",
      "  -691.92  -682.02  -683.07  -684.51  -683.64  -695.26  -684.06  -613.51\n",
      "  -684.93  -683.58  -684.23  -684.65  -681.72  -684.16  -684.52  -685.09\n",
      "  -684.39  -686.46  -682.32  -683.75  -683.66  -683.88  -689.4   -683.56\n",
      "  -683.36  -685.15  -683.36  -689.68  -683.55  -680.3   -683.66  -686.1\n",
      "  -664.99  -688.08  -684.66  -702.3   -688.23  -684.08  -684.31  -682.27\n",
      "  -685.36  -682.56  -690.14  -689.19  -683.3   -683.85  -688.65  -683.12\n",
      "  -687.34  -685.92  -666.26  -680.9   -683.29  -651.65  -687.89  -684.51\n",
      "  -684.37  -685.92  -683.58  -682.47  -683.    -683.99  -685.77  -686.58\n",
      "  -683.26  -683.27  -681.48  -683.28  -683.29  -684.54  -685.35  -687.23\n",
      "  -682.69  -685.96  -689.09  -697.63  -682.56  -689.98  -681.2   -684.08\n",
      "  -683.83  -683.6   -685.07  -675.38  -684.7   -683.75  -686.08  -696.63\n",
      "  -685.41  -683.61  -656.46  -683.14  -690.15  -684.11  -683.21  -684.86\n",
      "  -684.09  -682.42  -686.3   -683.62  -684.45  -682.24  -682.99  -681.44\n",
      "  -684.64  -683.37  -683.96  -682.83  -683.24  -683.12  -681.28  -686.44\n",
      "  -682.72  -693.73  -680.7   -685.29  -682.42  -683.64  -683.66  -684.75\n",
      "  -683.37  -690.61  -687.02  -684.66  -683.57  -676.45  -685.28  -695.07\n",
      "  -685.11  -684.47  -683.54  -683.47  -691.15  -683.48  -682.99  -683.61\n",
      "  -685.08  -682.11  -683.16  -683.78  -682.59  -682.72  -683.    -676.34\n",
      "  -684.54  -685.09  -677.34  -682.69  -700.82  -654.35  -682.58  -685.39\n",
      "  -710.48  -685.35  -683.1   -683.12  -685.64  -684.14  -684.64  -683.12\n",
      "  -681.76  -683.49  -685.27  -683.88  -686.87  -682.67  -690.39  -683.17\n",
      "  -688.66  -682.56  -687.    -685.99  -685.38  -683.34  -684.5   -669.02\n",
      "  -688.37  -683.79  -662.53  -686.21  -683.27  -675.82  -682.45  -681.5\n",
      "  -682.88  -680.97  -684.19  -684.79  -683.75  -684.3   -690.15  -701.41\n",
      "  -500.83  -685.41  -693.7   -684.34  -681.87  -692.12  -683.33  -683.99\n",
      "  -684.72  -681.15  -681.03  -683.95  -684.96  -748.08  -684.06  -683.37\n",
      "  -683.15  -681.72  -684.64  -682.45  -681.96  -684.96  -670.35  -685.18\n",
      "  -681.22  -682.67  -683.92  -682.1   -682.06  -683.99  -686.5   -684.74\n",
      " -1084.12  -684.61  -683.24  -680.74  -686.21  -683.73  -683.4   -684.57\n",
      "  -682.9   -683.07  -697.51  -682.99  -684.31  -680.85  -684.88  -678.3\n",
      "  -684.09  -683.89  -683.34  -677.98  -684.71  -685.02  -683.91  -685.31\n",
      "  -684.49  -691.24  -682.25  -682.98  -691.26  -684.52  -684.57  -683.71\n",
      "  -685.39  -680.89  -685.45  -684.88  -683.37  -682.6   -683.81  -681.53\n",
      "  -681.34  -683.36  -685.25  -683.26  -676.06  -650.11  -683.25  -688.15\n",
      "  -680.    -683.18  -677.99  -666.29  -683.36  -684.05  -661.36  -682.24\n",
      "  -679.48  -682.97  -682.95  -686.37  -684.58  -685.87  -678.42  -690.33\n",
      "  -710.29  -690.48  -683.5   -684.85  -613.05  -682.17  -683.72  -683.9\n",
      "  -683.02  -682.98  -685.51  -669.45  -688.93  -682.92  -684.83  -683.62\n",
      "  -682.18  -684.32  -682.36  -683.89  -684.89  -826.17  -684.07  -682.7\n",
      "  -683.45  -685.61  -683.45  -684.04  -682.5   -684.46  -682.92  -684.07\n",
      "  -689.35  -684.1   -682.73  -683.31  -683.98  -691.14  -684.94  -683.99\n",
      "  -684.68  -683.81  -683.75  -700.92  -684.97  -738.06  -684.94  -683.99\n",
      "  -684.22  -683.32  -683.61  -682.87  -683.78  -682.94  -683.81  -681.65\n",
      "  -683.02  -680.87  -683.07  -684.9   -683.6   -687.33  -684.07  -691.31\n",
      "  -685.03  -686.98  -684.96  -681.3   -684.03  -683.51  -681.34  -684.02\n",
      "  -683.85  -683.97  -683.62  -684.84  -684.79  -686.81  -686.66  -683.45\n",
      "  -667.83  -680.01  -684.35  -685.95  -683.95  -684.92  -684.49  -681.37\n",
      "  -685.55  -686.85  -683.83  -687.91  -684.33  -677.7   -684.64  -694.47\n",
      "  -684.11  -684.59  -684.72  -683.94  -684.53  -684.52  -682.26  -682.79\n",
      "  -683.82  -746.54  -685.72  -681.42  -684.52  -696.06  -683.94  -683.27\n",
      "  -684.03  -688.57  -684.06  -684.22  -681.16  -683.8   -684.96  -682.75\n",
      "  -684.3   -683.52  -685.75  -682.55  -685.79  -682.06  -682.65  -684.95\n",
      "  -686.86  -684.09  -683.17  -681.43  -683.9   -681.21  -684.56  -685.84\n",
      "  -683.27  -684.08  -684.5   -684.44  -683.69  -685.65  -688.34  -683.78\n",
      "  -680.38  -684.23  -689.59  -686.58  -687.62  -680.16  -684.74  -670.55\n",
      "  -686.72  -682.9   -689.79  -682.13  -684.45  -684.03  -701.25  -682.36\n",
      "  -682.92  -685.12  -683.68  -681.03  -684.65  -678.87  -685.    -569.27\n",
      "  -684.65  -688.49  -685.93  -682.67  -684.64  -684.68  -684.31  -683.79\n",
      "  -684.02  -685.03  -684.1   -685.26  -682.62  -678.1   -684.15  -684.55\n",
      "  -684.26  -684.54  -686.16  -677.55  -685.02  -687.8   -683.38  -683.7 ]\n"
     ]
    }
   ],
   "source": [
    "file_obj = open('Cauchy.csv', 'r')\n",
    "date = np.array([])\n",
    "for line in file_obj:\n",
    "    date = np.append(date, float(line))\n",
    "file_obj.close()\n",
    "print date"
   ]
  },
  {
   "cell_type": "markdown",
   "metadata": {},
   "source": [
    "Функция правдоподобия $f(X) = \\frac{1}{\\pi^{n}}\\cdot П \\frac{1}{1+(X_{i}-\\theta)^{2}}$"
   ]
  },
  {
   "cell_type": "markdown",
   "metadata": {},
   "source": [
    "Эта функция достигает своего максимума на тех же значениях, где функция $g(X) = \\Sigma ln(|X_{i} - \\theta| + 1)$ достигает минимума."
   ]
  },
  {
   "cell_type": "code",
   "execution_count": 27,
   "metadata": {
    "collapsed": true
   },
   "outputs": [],
   "source": [
    "def g(X, t):\n",
    "    result = 1    \n",
    "    for i in X:\n",
    "        result += np.log(np.abs(i - t) + 1)\n",
    "        \n",
    "    return result"
   ]
  },
  {
   "cell_type": "code",
   "execution_count": 39,
   "metadata": {
    "collapsed": false
   },
   "outputs": [
    {
     "data": {
      "image/png": "[encoded data removed]",
      "text/plain": [
       "<matplotlib.figure.Figure at 0xa7e08a6c>"
      ]
     },
     "metadata": {},
     "output_type": "display_data"
    }
   ],
   "source": [
    "plt.hist(date, bins = 20)\n",
    "plt.xlabel('value')\n",
    "plt.ylabel('count')\n",
    "plt.show()"
   ]
  },
  {
   "cell_type": "code",
   "execution_count": 42,
   "metadata": {
    "collapsed": false
   },
   "outputs": [
    {
     "data": {
      "image/png": "[encoded data removed]",
      "text/plain": [
       "<matplotlib.figure.Figure at 0xa7c1378c>"
      ]
     },
     "metadata": {},
     "output_type": "display_data"
    }
   ],
   "source": [
    "plt.hist(date, bins = 100)\n",
    "plt.xlabel('value')\n",
    "plt.ylabel('count')\n",
    "plt.xlim(-750, -600)\n",
    "plt.show()"
   ]
  },
  {
   "cell_type": "markdown",
   "metadata": {},
   "source": [
    "Так как отклонение распределения Коши совпадает с его модой, а как видно из гистограммы мода данного набора значений лежит в интервале [-700, -680], то будем исследовать этот интервал."
   ]
  },
  {
   "cell_type": "markdown",
   "metadata": {},
   "source": [
    "## Выборка из первых 500 значений"
   ]
  },
  {
   "cell_type": "code",
   "execution_count": 43,
   "metadata": {
    "collapsed": false
   },
   "outputs": [
    {
     "name": "stdout",
     "output_type": "stream",
     "text": [
      "-684.11\n"
     ]
    }
   ],
   "source": [
    "t = np.arange(-700, -680, 0.01)\n",
    "min_id = 0\n",
    "min_value = g(date[:500], t[min_id])\n",
    "\n",
    "for i in xrange(0, t.size):\n",
    "    value = g(date[:500], t[i])\n",
    "    if(value < min_value):\n",
    "        min_value = value\n",
    "        min_id = i\n",
    "\n",
    "print t[min_id]"
   ]
  },
  {
   "cell_type": "markdown",
   "metadata": {},
   "source": [
    "## Выборка из всех значений"
   ]
  },
  {
   "cell_type": "code",
   "execution_count": 44,
   "metadata": {
    "collapsed": false
   },
   "outputs": [
    {
     "name": "stdout",
     "output_type": "stream",
     "text": [
      "-684.06\n"
     ]
    }
   ],
   "source": [
    "t = np.arange(-700, -680, 0.01)\n",
    "min_id = 0\n",
    "min_value = g(date[:1000], t[min_id])\n",
    "\n",
    "for i in xrange(0, t.size):\n",
    "    value = g(date[:1000], t[i])\n",
    "    if(value < min_value):\n",
    "        min_value = value\n",
    "        min_id = i\n",
    "\n",
    "print t[min_id]"
   ]
  },
  {
   "cell_type": "markdown",
   "metadata": {},
   "source": [
    "### Ответы: -684.11 и -684.06 соответсвенно."
   ]
  }
 ],
 "metadata": {
  "kernelspec": {
   "display_name": "Python 2",
   "language": "python",
   "name": "python2"
  },
  "language_info": {
   "codemirror_mode": {
    "name": "ipython",
    "version": 2
   },
   "file_extension": ".py",
   "mimetype": "text/x-python",
   "name": "python",
   "nbconvert_exporter": "python",
   "pygments_lexer": "ipython2",
   "version": "2.7.11"
  }
 },
 "nbformat": 4,
 "nbformat_minor": 0
}
