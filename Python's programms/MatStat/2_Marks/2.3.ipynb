{
 "cells": [
  {
   "cell_type": "code",
   "execution_count": 1,
   "metadata": {
    "collapsed": true
   },
   "outputs": [],
   "source": [
    "import pandas as pd\n",
    "import numpy as np\n",
    "import matplotlib.pyplot as plt\n",
    "import scipy.stats as sts\n",
    "%matplotlib inline"
   ]
  },
  {
   "cell_type": "markdown",
   "metadata": {},
   "source": [
    "## Выборка размера $N = 10000$ из распределения с плотностью $p(x) = \\frac{5}{x^{6}}I(x\\geq 1)$"
   ]
  },
  {
   "cell_type": "markdown",
   "metadata": {},
   "source": [
    "Пусть $\\xi$ случайная величина с плотностью $p(x) = \\frac{5}{x^{6}}I(x\\geq 1)$. Тогда"
   ]
  },
  {
   "cell_type": "markdown",
   "metadata": {},
   "source": [
    "$$E\\xi = \\int_{1}^{+\\infty}\\frac{5\\cdot x}{x^6} dx = -\\frac{5}{4x^{4}}\\bigg|_{1}^{+\\infty} = \\frac{5}{4}$$"
   ]
  },
  {
   "cell_type": "markdown",
   "metadata": {},
   "source": [
    "$$E\\xi^{2} = \\int_{1}^{+\\infty}\\frac{5\\cdot x^{2}}{x^6} dx = -\\frac{5}{3x^{3}}\\bigg|_{1}^{+\\infty} = \\frac{5}{3}$$"
   ]
  },
  {
   "cell_type": "markdown",
   "metadata": {},
   "source": [
    "$$D\\xi = E\\xi^{2} - (E\\xi)^{2} = \\frac{5}{48}$$"
   ]
  },
  {
   "cell_type": "code",
   "execution_count": 56,
   "metadata": {
    "collapsed": true
   },
   "outputs": [],
   "source": [
    "class minus_six_gen(sts.rv_continuous):\n",
    "    def _pdf(self, x):\n",
    "        return 5./(np.power(x,6))\n",
    "minus_six = minus_six_gen(a=1, name='minus_six')"
   ]
  },
  {
   "cell_type": "code",
   "execution_count": 71,
   "metadata": {
    "collapsed": false,
    "scrolled": true
   },
   "outputs": [
    {
     "name": "stdout",
     "output_type": "stream",
     "text": [
      "[ 1.32468222  1.12302263  1.34223426 ...,  1.06359346  2.27998621\n",
      "  1.0392573 ]\n"
     ]
    }
   ],
   "source": [
    "N = 10000\n",
    "\n",
    "sample = minus_six.rvs(size = N)\n",
    "print sample"
   ]
  },
  {
   "cell_type": "code",
   "execution_count": 80,
   "metadata": {
    "collapsed": false
   },
   "outputs": [
    {
     "data": {
      "image/png": "[encoded data removed]",
      "text/plain": [
       "<matplotlib.figure.Figure at 0xa995de2c>"
      ]
     },
     "metadata": {},
     "output_type": "display_data"
    }
   ],
   "source": [
    "x = np.arange(1, 5, 0.01)\n",
    "pdf = minus_six.pdf(x)\n",
    "plt.plot(x, pdf)\n",
    "plt.plot(sample, 0*sample, '.')\n",
    "plt.xlim(1, 10)\n",
    "plt.ylabel('$p(x)$')\n",
    "plt.xlabel('$x$')\n",
    "plt.show()"
   ]
  },
  {
   "cell_type": "markdown",
   "metadata": {},
   "source": [
    "В массивах хранятся элементы, соответсвующие выборочному первому и второму моменту,а так же выборочной дисперсии для каждого $n\\leq N$"
   ]
  },
  {
   "cell_type": "markdown",
   "metadata": {},
   "source": [
    "$first \\sim \\bar{X}$"
   ]
  },
  {
   "cell_type": "markdown",
   "metadata": {},
   "source": [
    "$second \\sim \\bar{X^{2}}$"
   ]
  },
  {
   "cell_type": "markdown",
   "metadata": {},
   "source": [
    "$S \\sim S^{2} = \\bar{X^{2}} - (\\bar{X})^{2}$"
   ]
  },
  {
   "cell_type": "code",
   "execution_count": 81,
   "metadata": {
    "collapsed": false
   },
   "outputs": [],
   "source": [
    "avrg_1 = float(sample[0])\n",
    "avrg_2 = float(sample[0])**2\n",
    "\n",
    "first = np.array([avrg_1])\n",
    "second = np.array([avrg_2])\n",
    "for x in xrange(1,N):\n",
    "    avrg_1 = (avrg_1*x + sample[x])/(x+1)   \n",
    "    first = np.append(first, avrg_1)\n",
    "    avrg_2 = (avrg_2*x + sample[x]**2)/(x+1)   \n",
    "    second = np.append(second, avrg_2)\n",
    "\n",
    "S = second - first**2"
   ]
  },
  {
   "cell_type": "markdown",
   "metadata": {},
   "source": [
    "#### Построение графика модуля разности выборочной дисперсии и $D\\xi = \\frac{5}{48}$"
   ]
  },
  {
   "cell_type": "code",
   "execution_count": 85,
   "metadata": {
    "collapsed": false
   },
   "outputs": [
    {
     "data": {
      "image/png": "[encoded data removed]",
      "text/plain": [
       "<matplotlib.figure.Figure at 0xa9a817ac>"
      ]
     },
     "metadata": {},
     "output_type": "display_data"
    }
   ],
   "source": [
    "x = np.linspace(0, N, N)\n",
    "D = 5.0/48\n",
    "plt.plot(x, np.abs(S - D))\n",
    "plt.ylabel('$|S^{2} - D\\\\xi|$')\n",
    "plt.xlabel('$n$')\n",
    "plt.show()"
   ]
  },
  {
   "cell_type": "markdown",
   "metadata": {},
   "source": [
    "## Аналогичные построения для выборки из распределения $Cauchy(1)$"
   ]
  },
  {
   "cell_type": "code",
   "execution_count": 86,
   "metadata": {
    "collapsed": true
   },
   "outputs": [],
   "source": [
    "t = 1\n",
    "cauchy_rv = sts.cauchy(t)\n",
    "sample = cauchy_rv.rvs(N)"
   ]
  },
  {
   "cell_type": "code",
   "execution_count": 90,
   "metadata": {
    "collapsed": false
   },
   "outputs": [
    {
     "data": {
      "image/png": "[encoded data removed]",
      "text/plain": [
       "<matplotlib.figure.Figure at 0xa9b6b70c>"
      ]
     },
     "metadata": {},
     "output_type": "display_data"
    }
   ],
   "source": [
    "x = np.arange(-N, N, 0.01)\n",
    "pdf = cauchy_rv.pdf(x)\n",
    "plt.plot(x, pdf)\n",
    "plt.plot(sample, 0*sample, '.')\n",
    "plt.xlim(-75, 75)\n",
    "plt.ylabel('$p(x)$')\n",
    "plt.xlabel('$x$')\n",
    "plt.show()"
   ]
  },
  {
   "cell_type": "markdown",
   "metadata": {},
   "source": [
    "В массивах хранятся элементы, соответсвующие выборочному первому и второму моменту,а так же выборочной дисперсии для каждого $n\\leq N$"
   ]
  },
  {
   "cell_type": "markdown",
   "metadata": {},
   "source": [
    "$first \\sim \\bar{X}$"
   ]
  },
  {
   "cell_type": "markdown",
   "metadata": {},
   "source": [
    "$second \\sim \\bar{X^{2}}$"
   ]
  },
  {
   "cell_type": "markdown",
   "metadata": {},
   "source": [
    "$S \\sim S^{2} = \\bar{X^{2}} - (\\bar{X})^{2}$"
   ]
  },
  {
   "cell_type": "code",
   "execution_count": 91,
   "metadata": {
    "collapsed": true
   },
   "outputs": [],
   "source": [
    "avrg_1 = float(sample[0])\n",
    "avrg_2 = float(sample[0])**2\n",
    "\n",
    "first = np.array([avrg_1])\n",
    "second = np.array([avrg_2])\n",
    "for x in xrange(1,N):\n",
    "    avrg_1 = (avrg_1*x + sample[x])/(x+1)   \n",
    "    first = np.append(first, avrg_1)\n",
    "    avrg_2 = (avrg_2*x + sample[x]**2)/(x+1)   \n",
    "    second = np.append(second, avrg_2)\n",
    "\n",
    "S = second - first**2"
   ]
  },
  {
   "cell_type": "markdown",
   "metadata": {},
   "source": [
    "#### Построение графика выборочной дисперсии"
   ]
  },
  {
   "cell_type": "code",
   "execution_count": 92,
   "metadata": {
    "collapsed": false
   },
   "outputs": [
    {
     "data": {
      "image/png": "[encoded data removed]",
      "text/plain": [
       "<matplotlib.figure.Figure at 0xa991a02c>"
      ]
     },
     "metadata": {},
     "output_type": "display_data"
    }
   ],
   "source": [
    "x = np.linspace(0, N, N)\n",
    "plt.plot(x, S)\n",
    "plt.ylabel('$S^{2}$')\n",
    "plt.xlabel('$n$')\n",
    "plt.show()"
   ]
  }
 ],
 "metadata": {
  "kernelspec": {
   "display_name": "Python 2",
   "language": "python",
   "name": "python2"
  },
  "language_info": {
   "codemirror_mode": {
    "name": "ipython",
    "version": 2
   },
   "file_extension": ".py",
   "mimetype": "text/x-python",
   "name": "python",
   "nbconvert_exporter": "python",
   "pygments_lexer": "ipython2",
   "version": "2.7.11"
  }
 },
 "nbformat": 4,
 "nbformat_minor": 0
}
