{
 "cells": [
  {
   "cell_type": "code",
   "execution_count": 64,
   "metadata": {
    "collapsed": true
   },
   "outputs": [],
   "source": [
    "import numpy as np\n",
    "from matplotlib import pylab as plt\n",
    "def f(x):\n",
    "    return np.sin(x / 5.) * np.exp(x / 10.) + 5. * np.exp(-x / 2.)"
   ]
  },
  {
   "cell_type": "code",
   "execution_count": 65,
   "metadata": {
    "collapsed": false
   },
   "outputs": [],
   "source": [
    "x = np.arange(1, 15, 0.1)\n",
    "y = f(x)\n",
    "plt.plot(x,y)\n",
    "plt.show()"
   ]
  },
  {
   "cell_type": "code",
   "execution_count": 66,
   "metadata": {
    "collapsed": false
   },
   "outputs": [
    {
     "data": {
      "text/plain": [
       "array([[  1.00000000e+00,   1.00000000e+00,   1.00000000e+00,\n",
       "          1.00000000e+00],\n",
       "       [  1.00000000e+00,   4.00000000e+00,   1.60000000e+01,\n",
       "          6.40000000e+01],\n",
       "       [  1.00000000e+00,   1.00000000e+01,   1.00000000e+02,\n",
       "          1.00000000e+03],\n",
       "       [  1.00000000e+00,   1.50000000e+01,   2.25000000e+02,\n",
       "          3.37500000e+03]])"
      ]
     },
     "execution_count": 66,
     "metadata": {},
     "output_type": "execute_result"
    }
   ],
   "source": [
    "A = np.array([])\n",
    "definition_area = np.array([1, 4, 10, 15])\n",
    "size = 4\n",
    "for i in definition_area:\n",
    "    for j in xrange(0, size):\n",
    "        A = np.append(A,i**j)\n",
    "A = A.reshape((size,size))\n",
    "A"
   ]
  },
  {
   "cell_type": "code",
   "execution_count": 67,
   "metadata": {
    "collapsed": false
   },
   "outputs": [
    {
     "name": "stdout",
     "output_type": "stream",
     "text": [
      "[ 3.25221687  1.74684595  2.50541641  0.63522142]\n",
      "3.25221686527\n"
     ]
    }
   ],
   "source": [
    "b = f(definition_area)\n",
    "print b\n",
    "print f(1)"
   ]
  },
  {
   "cell_type": "code",
   "execution_count": 68,
   "metadata": {
    "collapsed": false
   },
   "outputs": [
    {
     "name": "stdout",
     "output_type": "stream",
     "text": [
      "[ 4.36264154 -1.29552587  0.19333685 -0.00823565]\n",
      "[ 3.25221687  1.74684595  2.50541641  0.63522142]\n"
     ]
    }
   ],
   "source": [
    "from scipy import linalg\n",
    "w = linalg.solve(A,b)\n",
    "print w\n",
    "print A.dot(w)"
   ]
  },
  {
   "cell_type": "code",
   "execution_count": 37,
   "metadata": {
    "collapsed": true
   },
   "outputs": [],
   "source": [
    "def polynom(x, w, size):\n",
    "    result = 0.0\n",
    "    for i in xrange(0, size):\n",
    "        result += w[i]*(x**i)\n",
    "    return result"
   ]
  },
  {
   "cell_type": "code",
   "execution_count": 69,
   "metadata": {
    "collapsed": true
   },
   "outputs": [],
   "source": [
    "yy = polynom(x, w, size)\n",
    "plt.plot(x, yy)\n",
    "plt.show()"
   ]
  },
  {
   "cell_type": "code",
   "execution_count": 71,
   "metadata": {
    "collapsed": false
   },
   "outputs": [
    {
     "name": "stdout",
     "output_type": "stream",
     "text": [
      "4.36 -1.3 0.19 -0.01"
     ]
    }
   ],
   "source": [
    "file_obj = open('submission-2.txt','w')\n",
    "string = ''\n",
    "for i in xrange(0, size):\n",
    "    string += str(round(w[i],2))\n",
    "    if i != size-1:\n",
    "        string += ' '\n",
    "file_obj.write(string)\n",
    "file_obj.close()\n",
    "!cat submission-2.txt"
   ]
  }
 ],
 "metadata": {
  "kernelspec": {
   "display_name": "Python 2",
   "language": "python",
   "name": "python2"
  },
  "language_info": {
   "codemirror_mode": {
    "name": "ipython",
    "version": 2
   },
   "file_extension": ".py",
   "mimetype": "text/x-python",
   "name": "python",
   "nbconvert_exporter": "python",
   "pygments_lexer": "ipython2",
   "version": "2.7.11"
  }
 },
 "nbformat": 4,
 "nbformat_minor": 0
}
