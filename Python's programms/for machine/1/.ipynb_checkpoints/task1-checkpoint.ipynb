{
 "cells": [
  {
   "cell_type": "code",
   "execution_count": 1,
   "metadata": {
    "collapsed": true
   },
   "outputs": [],
   "source": [
    "import numpy as np\n",
    "from scipy import linalg as alg"
   ]
  },
  {
   "cell_type": "code",
   "execution_count": 5,
   "metadata": {
    "collapsed": false
   },
   "outputs": [
    {
     "name": "stdout",
     "output_type": "stream",
     "text": [
      "In comparison to dogs, cats have not undergone major changes during the domestication process.\n",
      "As cat simply catenates streams of bytes, it can be also used to concatenate binary files, where it will just concatenate sequence of bytes.\n",
      "A common interactive use of cat for a single file is to output the content of a file to standard output.\n",
      "Cats can hear sounds too faint or too high in frequency for human ears, such as those made by mice and other small animals.\n",
      "In one, people deliberately tamed cats in a process of artificial selection, as they were useful predators of vermin.\n",
      "The domesticated cat and its closest wild ancestor are both diploid organisms that possess 38 chromosomes and roughly 20,000 genes.\n",
      "Domestic cats are similar in size to the other members of the genus Felis, typically weighing between 4 and 5 kg (8.8 and 11.0 lb).\n",
      "However, if the output is piped or redirected, cat is unnecessary.\n",
      "cat with one named file is safer where human error is a concern - one wrong use of the default redirection symbol \">\" instead of \"<\" (often adjacent on keyboards) may permanently delete the file you were just needing to read.\n",
      "In terms of legibility, a sequence of commands starting with cat and connected by pipes has a clear left-to-right flow of information.\n",
      "Cat command is one of the basic commands that you learned when you started in the Unix / Linux world.\n",
      "Using cat command, the lines received from stdin can be redirected to a new file using redirection symbols.\n",
      "When you type simply cat command without any arguments, it just receives the stdin content and displays it in the stdout.\n",
      "Leopard was released on October 26, 2007 as the successor of Tiger (version 10.4), and is available in two editions.\n",
      "According to Apple, Leopard contains over 300 changes and enhancements over its predecessor, Mac OS X Tiger.\n",
      "As of Mid 2010, some Apple computers have firmware factory installed which will no longer allow installation of Mac OS X Leopard.\n",
      "Since Apple moved to using Intel processors in their computers, the OSx86 community has developed and now also allows Mac OS X Tiger and later releases to be installed on non-Apple x86-based computers.\n",
      "OS X Mountain Lion was released on July 25, 2012 for purchase and download through Apple's Mac App Store, as part of a switch to releasing OS X versions online and every year.\n",
      "Apple has released a small patch for the three most recent versions of Safari running on OS X Yosemite, Mavericks, and Mountain Lion.\n",
      "The Mountain Lion release marks the second time Apple has offered an incremental upgrade, rather than releasing a new cat entirely.\n",
      "Mac OS X Mountain Lion installs in place, so you won't need to create a separate disk or run the installation off an external drive.\n",
      "The fifth major update to Mac OS X, Leopard, contains such a mountain of features - more than 300 by Apple's count.\n",
      "\n"
     ]
    }
   ],
   "source": [
    "file_obj = open('sentences.txt', 'r')\n",
    "print file_obj.read()\n",
    "file_obj.close()"
   ]
  },
  {
   "cell_type": "code",
   "execution_count": 83,
   "metadata": {
    "collapsed": true
   },
   "outputs": [],
   "source": [
    "import re"
   ]
  },
  {
   "cell_type": "code",
   "execution_count": 98,
   "metadata": {
    "collapsed": false
   },
   "outputs": [
    {
     "name": "stdout",
     "output_type": "stream",
     "text": [
      "254\n",
      "22\n"
     ]
    }
   ],
   "source": [
    "file_obj = open('sentences.txt', 'r')\n",
    "lines=[]\n",
    "set_words=set()\n",
    "unique_count=0\n",
    "amount_lines=0\n",
    "unique_words=dict()\n",
    "for line in file_obj:\n",
    "    amount_lines+=1\n",
    "    line = line.strip().lower()\n",
    "    line = re.split('[^a-z]', line)\n",
    "    while line.count('') > 0:\n",
    "        line.remove('')\n",
    "        \n",
    "    for word in line:\n",
    "        if not(word in set_words):\n",
    "            unique_count+=1\n",
    "            unique_words[unique_count] = word\n",
    "            set_words.add(word)\n",
    "    lines.append(line)\n",
    "file_obj.close()\n",
    "print unique_count\n",
    "print amount_lines"
   ]
  },
  {
   "cell_type": "code",
   "execution_count": 124,
   "metadata": {
    "collapsed": false
   },
   "outputs": [
    {
     "name": "stdout",
     "output_type": "stream",
     "text": [
      "[[ 1.  1.  1. ...,  0.  0.  0.]\n",
      " [ 0.  0.  1. ...,  0.  0.  0.]\n",
      " [ 0.  0.  2. ...,  0.  0.  0.]\n",
      " ..., \n",
      " [ 0.  0.  0. ...,  0.  0.  0.]\n",
      " [ 1.  0.  1. ...,  0.  0.  0.]\n",
      " [ 0.  0.  1. ...,  1.  1.  1.]]\n",
      "(22, 254)\n"
     ]
    }
   ],
   "source": [
    "matrix = np.array([])\n",
    "for line in lines:\n",
    "    for x in xrange(1,unique_count+1):\n",
    "        matrix = np.append(matrix,line.count(unique_words[x]))\n",
    "matrix = matrix.reshape((amount_lines,unique_count))\n",
    "print matrix\n",
    "print matrix.shape"
   ]
  },
  {
   "cell_type": "code",
   "execution_count": 133,
   "metadata": {
    "collapsed": false
   },
   "outputs": [
    {
     "name": "stdout",
     "output_type": "stream",
     "text": [
      "[[0.7327387580875756, 6], [0.77708871496985887, 4], [0.82503644694405864, 21], [0.83281653622739416, 10], [0.83964325485254543, 12], [0.84063618542208085, 16], [0.84275727449171223, 20], [0.86447381456421235, 2], [0.87035925528956715, 13], [0.87401184233025764, 14], [0.88047713906656067, 11], [0.88427248752843102, 8], [0.88854435748492944, 19], [0.89517151632780823, 3], [0.90550888174769317, 9], [0.92587506833388988, 7], [0.94023856953328033, 5], [0.94427217874246472, 15], [0.94427217874246472, 18], [0.95275444087384664, 1], [0.95664450152379399, 17]]\n"
     ]
    }
   ],
   "source": [
    "from scipy.spatial import distance\n",
    "distance = []\n",
    "for x in xrange(1,amount_lines):\n",
    "    distance.append([scipy.spatial.distance.cosine(matrix[0], matrix[x]), x])\n",
    "distance.sort()\n",
    "print distance"
   ]
  },
  {
   "cell_type": "code",
   "execution_count": 138,
   "metadata": {
    "collapsed": false
   },
   "outputs": [
    {
     "name": "stdout",
     "output_type": "stream",
     "text": [
      "6 4"
     ]
    }
   ],
   "source": [
    "file_obj = open('submission-1.txt','w')\n",
    "file_obj.writelines(str(distance[0][1])+' '+str(distance[1][1]))\n",
    "file_obj.close()\n",
    "!cat submission-1.txt"
   ]
  }
 ],
 "metadata": {
  "kernelspec": {
   "display_name": "Python 2",
   "language": "python",
   "name": "python2"
  },
  "language_info": {
   "codemirror_mode": {
    "name": "ipython",
    "version": 2
   },
   "file_extension": ".py",
   "mimetype": "text/x-python",
   "name": "python",
   "nbconvert_exporter": "python",
   "pygments_lexer": "ipython2",
   "version": "2.7.11"
  }
 },
 "nbformat": 4,
 "nbformat_minor": 0
}
